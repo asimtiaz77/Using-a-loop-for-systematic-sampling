{
 "cells": [
  {
   "cell_type": "code",
   "execution_count": 1,
   "id": "b5377011",
   "metadata": {},
   "outputs": [
    {
     "name": "stdout",
     "output_type": "stream",
     "text": [
      "Enter the population size: 1000\n",
      "Enter the confidence level (e.g., 95 or 99): 95\n",
      "Enter the desired margin of error (e.g., 0.05 for 5%): 0.05\n",
      "The required sample size for systematic sampling is approximately 278.\n",
      "Enter the sample size you want to draw: 250\n",
      "The systematic sampling selected the following elements:\n",
      "[1, 5, 9, 13, 17, 21, 25, 29, 33, 37, 41, 45, 49, 53, 57, 61, 65, 69, 73, 77, 81, 85, 89, 93, 97, 101, 105, 109, 113, 117, 121, 125, 129, 133, 137, 141, 145, 149, 153, 157, 161, 165, 169, 173, 177, 181, 185, 189, 193, 197, 201, 205, 209, 213, 217, 221, 225, 229, 233, 237, 241, 245, 249, 253, 257, 261, 265, 269, 273, 277, 281, 285, 289, 293, 297, 301, 305, 309, 313, 317, 321, 325, 329, 333, 337, 341, 345, 349, 353, 357, 361, 365, 369, 373, 377, 381, 385, 389, 393, 397, 401, 405, 409, 413, 417, 421, 425, 429, 433, 437, 441, 445, 449, 453, 457, 461, 465, 469, 473, 477, 481, 485, 489, 493, 497, 501, 505, 509, 513, 517, 521, 525, 529, 533, 537, 541, 545, 549, 553, 557, 561, 565, 569, 573, 577, 581, 585, 589, 593, 597, 601, 605, 609, 613, 617, 621, 625, 629, 633, 637, 641, 645, 649, 653, 657, 661, 665, 669, 673, 677, 681, 685, 689, 693, 697, 701, 705, 709, 713, 717, 721, 725, 729, 733, 737, 741, 745, 749, 753, 757, 761, 765, 769, 773, 777, 781, 785, 789, 793, 797, 801, 805, 809, 813, 817, 821, 825, 829, 833, 837, 841, 845, 849, 853, 857, 861, 865, 869, 873, 877, 881, 885, 889, 893, 897, 901, 905, 909, 913, 917, 921, 925, 929, 933, 937, 941, 945, 949, 953, 957, 961, 965, 969, 973, 977, 981, 985, 989, 993, 997]\n"
     ]
    }
   ],
   "source": [
    "import math\n",
    "\n",
    "#Loop for systematic sampling\n",
    "def calculate_sample_size(population_size, confidence_level, margin_of_error):\n",
    "    # Z-score for common confidence levels\n",
    "    z_scores = {90: 1.645, 95: 1.96, 99: 2.576}\n",
    "    Z = z_scores[confidence_level]\n",
    "    P = 0.5  # conservative estimate\n",
    "    E = margin_of_error\n",
    "\n",
    "    # Calculate sample size\n",
    "    sample_size = (Z**2 * P * (1-P)) / E**2\n",
    "\n",
    "    # Adjust for finite population\n",
    "    sample_size = sample_size / (1 + ((sample_size - 1) / population_size))\n",
    "\n",
    "    return math.ceil(sample_size)\n",
    "\n",
    "def systematic_sampling(population, sample_size):\n",
    "    step = len(population) // sample_size\n",
    "    return [population[i] for i in range(0, len(population), step)]\n",
    "\n",
    "# Example output\n",
    "population_size = int(input(\"Enter the population size: \"))\n",
    "confidence_level = int(input(\"Enter the confidence level (e.g., 95 or 99): \"))\n",
    "margin_of_error = float(input(\"Enter the desired margin of error (e.g., 0.05 for 5%): \"))\n",
    "\n",
    "required_sample_size = calculate_sample_size(population_size, confidence_level, margin_of_error)\n",
    "print(f\"The required sample size for systematic sampling is approximately {required_sample_size}.\")\n",
    "\n",
    "sample_size = int(input(\"Enter the sample size you want to draw: \"))\n",
    "while sample_size > required_sample_size:\n",
    "    print(f\"Sorry, the requested sample size is not feasible with the given population size, confidence level, and margin of error.\")\n",
    "    print(f\"The maximum sample size possible is {required_sample_size}. Please enter a lower value.\")\n",
    "    sample_size = int(input(\"Enter the sample size you want to draw: \"))\n",
    "\n",
    "population = list(range(1, population_size+1))  # replace this with your actual population\n",
    "sample = systematic_sampling(population, sample_size)\n",
    "print(f\"The systematic sampling selected the following elements:\\n{sample}\")"
   ]
  },
  {
   "cell_type": "code",
   "execution_count": null,
   "id": "03ab38ac",
   "metadata": {},
   "outputs": [
    {
     "name": "stdout",
     "output_type": "stream",
     "text": [
      "Enter the population size: 1000\n",
      "Enter the confidence level (e.g., 95 or 99): 95\n",
      "Enter the desired margin of error (e.g., 0.05 for 5%): 0.05\n",
      "The required sample size for systematic sampling is approximately 278.\n",
      "Enter the sample size you want to draw: 300\n",
      "Sorry, the requested sample size is not feasible with the given population size, confidence level, and margin of error.\n",
      "The maximum sample size possible is 278. Please enter a lower value.\n",
      "Enter the sample size you want to draw: 299\n",
      "Sorry, the requested sample size is not feasible with the given population size, confidence level, and margin of error.\n",
      "The maximum sample size possible is 278. Please enter a lower value.\n"
     ]
    }
   ],
   "source": [
    "import math\n",
    "\n",
    "#Loop for systematic sampling\n",
    "def calculate_sample_size(population_size, confidence_level, margin_of_error):\n",
    "    # Z-score for common confidence levels\n",
    "    z_scores = {90: 1.645, 95: 1.96, 99: 2.576}\n",
    "    Z = z_scores[confidence_level]\n",
    "    P = 0.5  # conservative estimate\n",
    "    E = margin_of_error\n",
    "\n",
    "    # Calculate sample size\n",
    "    sample_size = (Z**2 * P * (1-P)) / E**2\n",
    "\n",
    "    # Adjust for finite population\n",
    "    sample_size = sample_size / (1 + ((sample_size - 1) / population_size))\n",
    "\n",
    "    return math.ceil(sample_size)\n",
    "\n",
    "def systematic_sampling(population, sample_size):\n",
    "    step = len(population) // sample_size\n",
    "    return [population[i] for i in range(0, len(population), step)]\n",
    "\n",
    "# Example output\n",
    "population_size = int(input(\"Enter the population size: \"))\n",
    "confidence_level = int(input(\"Enter the confidence level (e.g., 95 or 99): \"))\n",
    "margin_of_error = float(input(\"Enter the desired margin of error (e.g., 0.05 for 5%): \"))\n",
    "\n",
    "required_sample_size = calculate_sample_size(population_size, confidence_level, margin_of_error)\n",
    "print(f\"The required sample size for systematic sampling is approximately {required_sample_size}.\")\n",
    "\n",
    "sample_size = int(input(\"Enter the sample size you want to draw: \"))\n",
    "while sample_size > required_sample_size:\n",
    "    print(f\"Sorry, the requested sample size is not feasible with the given population size, confidence level, and margin of error.\")\n",
    "    print(f\"The maximum sample size possible is {required_sample_size}. Please enter a lower value.\")\n",
    "    sample_size = int(input(\"Enter the sample size you want to draw: \"))\n",
    "\n",
    "population = list(range(1, population_size+1))  # replace this with your actual population\n",
    "sample = systematic_sampling(population, sample_size)\n",
    "print(f\"The systematic sampling selected the following elements:\\n{sample}\")"
   ]
  },
  {
   "cell_type": "code",
   "execution_count": null,
   "id": "8a28fb62",
   "metadata": {},
   "outputs": [],
   "source": []
  }
 ],
 "metadata": {
  "kernelspec": {
   "display_name": "Python 3 (ipykernel)",
   "language": "python",
   "name": "python3"
  },
  "language_info": {
   "codemirror_mode": {
    "name": "ipython",
    "version": 3
   },
   "file_extension": ".py",
   "mimetype": "text/x-python",
   "name": "python",
   "nbconvert_exporter": "python",
   "pygments_lexer": "ipython3",
   "version": "3.11.4"
  }
 },
 "nbformat": 4,
 "nbformat_minor": 5
}
